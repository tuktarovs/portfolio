{
 "cells": [
  {
   "cell_type": "markdown",
   "id": "c8e004d5",
   "metadata": {},
   "source": [
    "# Импорт библиотек"
   ]
  },
  {
   "cell_type": "code",
   "execution_count": 2,
   "id": "25715164",
   "metadata": {},
   "outputs": [
    {
     "ename": "ModuleNotFoundError",
     "evalue": "No module named 'dill'",
     "output_type": "error",
     "traceback": [
      "\u001b[0;31m---------------------------------------------------------------------------\u001b[0m",
      "\u001b[0;31mModuleNotFoundError\u001b[0m                       Traceback (most recent call last)",
      "Cell \u001b[0;32mIn[2], line 2\u001b[0m\n\u001b[1;32m      1\u001b[0m \u001b[38;5;28;01mimport\u001b[39;00m \u001b[38;5;21;01msys\u001b[39;00m\n\u001b[0;32m----> 2\u001b[0m \u001b[38;5;28;01mimport\u001b[39;00m \u001b[38;5;21;01mdill\u001b[39;00m\n\u001b[1;32m      3\u001b[0m \u001b[38;5;28;01mimport\u001b[39;00m \u001b[38;5;21;01mwarnings\u001b[39;00m\n\u001b[1;32m      4\u001b[0m \u001b[38;5;28;01mfrom\u001b[39;00m \u001b[38;5;21;01mfunctools\u001b[39;00m \u001b[38;5;28;01mimport\u001b[39;00m partial\n",
      "\u001b[0;31mModuleNotFoundError\u001b[0m: No module named 'dill'"
     ]
    }
   ],
   "source": [
    "import sys\n",
    "import dill\n",
    "import warnings\n",
    "from functools import partial\n",
    "\n",
    "\n",
    "import pandas as pd\n",
    "import matplotlib.pyplot as plt\n",
    "import seaborn as sns\n",
    "\n",
    "from sklearn.pipeline import Pipeline\n",
    "from sklearn.preprocessing import FunctionTransformer, StandardScaler\n",
    "from feature_engine.selection import DropDuplicateFeatures, DropCorrelatedFeatures, DropFeatures, DropConstantFeatures\n",
    "from feature_engine.transformation import BoxCoxTransformer, YeoJohnsonTransformer\n",
    "from feature_engine.outliers import Winsorizer\n",
    "from feature_engine.wrappers import SklearnTransformerWrapper\n",
    "from feature_engine.encoding import RareLabelEncoder, OneHotEncoder\n",
    "\n",
    "from sklearn.model_selection import train_test_split\n",
    "\n",
    "from sklearn.metrics import roc_auc_score, accuracy_score, precision_score, recall_score, f1_score, confusion_matrix\n",
    "\n",
    "from sklearn.base import BaseEstimator\n",
    "from sklearn.dummy import DummyClassifier\n",
    "from sklearn.linear_model import LogisticRegression\n",
    "from sklearn.tree import DecisionTreeClassifier\n",
    "from sklearn.ensemble import RandomForestClassifier, HistGradientBoostingClassifier\n",
    "from sklearn.neural_network import MLPClassifier\n",
    "from sklearn.svm import LinearSVC\n",
    "from lightgbm import LGBMClassifier\n",
    "\n",
    "from bayes_opt import BayesianOptimization\n",
    "\n",
    "from datetime import datetime\n",
    "from IPython.core.display import display, HTML\n",
    "from sklearn.preprocessing import FunctionTransformer, StandardScaler"
   ]
  },
  {
   "cell_type": "markdown",
   "id": "0ad17066",
   "metadata": {},
   "source": [
    "# Настройка ноутбука"
   ]
  },
  {
   "cell_type": "code",
   "execution_count": 1,
   "id": "a8a1e5cb",
   "metadata": {},
   "outputs": [
    {
     "ename": "NameError",
     "evalue": "name 'HTML' is not defined",
     "output_type": "error",
     "traceback": [
      "\u001b[0;31m---------------------------------------------------------------------------\u001b[0m",
      "\u001b[0;31mNameError\u001b[0m                                 Traceback (most recent call last)",
      "\u001b[0;32m/var/folders/69/42r6bx2519z3r7q0h6gn72vw0000gn/T/ipykernel_20587/4169066410.py\u001b[0m in \u001b[0;36m<module>\u001b[0;34m\u001b[0m\n\u001b[0;32m----> 1\u001b[0;31m \u001b[0mdisplay\u001b[0m\u001b[0;34m(\u001b[0m\u001b[0mHTML\u001b[0m\u001b[0;34m(\u001b[0m\u001b[0;34m'<style>.container {width:95% !important;}</style>'\u001b[0m\u001b[0;34m)\u001b[0m\u001b[0;34m)\u001b[0m\u001b[0;34m\u001b[0m\u001b[0;34m\u001b[0m\u001b[0m\n\u001b[0m\u001b[1;32m      2\u001b[0m \u001b[0mwarnings\u001b[0m\u001b[0;34m.\u001b[0m\u001b[0mfilterwarnings\u001b[0m\u001b[0;34m(\u001b[0m\u001b[0;34m'ignore'\u001b[0m\u001b[0;34m)\u001b[0m\u001b[0;34m\u001b[0m\u001b[0;34m\u001b[0m\u001b[0m\n",
      "\u001b[0;31mNameError\u001b[0m: name 'HTML' is not defined"
     ]
    }
   ],
   "source": [
    "display(HTML('<style>.container {width:95% !important;}</style>'))\n",
    "warnings.filterwarnings('ignore')"
   ]
  },
  {
   "cell_type": "markdown",
   "id": "dcf1bab2",
   "metadata": {},
   "source": [
    "# Загрузка данных"
   ]
  },
  {
   "cell_type": "code",
   "execution_count": 3,
   "id": "334bdc81",
   "metadata": {},
   "outputs": [],
   "source": [
    "with open(f'data/ga_hits.pkl', 'rb') as file:\n",
    "    ga_hits = dill.load(file)"
   ]
  },
  {
   "cell_type": "code",
   "execution_count": 4,
   "id": "7dd4aaf9",
   "metadata": {},
   "outputs": [],
   "source": [
    "with open(f'data/ga_sessions.pkl', 'rb') as file:\n",
    "    ga_sessions = dill.load(file)"
   ]
  },
  {
   "cell_type": "markdown",
   "id": "6c7525a0",
   "metadata": {},
   "source": [
    "# Объединение таблиц"
   ]
  },
  {
   "cell_type": "code",
   "execution_count": 5,
   "id": "56e4ac51",
   "metadata": {},
   "outputs": [],
   "source": [
    "event = ['sub_car_claim_click', 'sub_car_claim_submit_click',\n",
    "'sub_open_dialog_click', 'sub_custom_question_submit_click',\n",
    "'sub_call_number_click', 'sub_callback_submit_click', 'sub_submit_success',\n",
    "'sub_car_request_submit_click']"
   ]
  },
  {
   "cell_type": "code",
   "execution_count": 6,
   "id": "f995718f",
   "metadata": {},
   "outputs": [],
   "source": [
    "ga_hits['event_value'] = ga_hits.apply(lambda x: 1 if x.event_action in event else 0, axis=1)\n",
    "ga_hits = ga_hits[['session_id', 'event_value']]\n",
    "hits = ga_hits.groupby(by='session_id').sum()\n",
    "hits['event_value'] = hits.apply(lambda x: 1 if x.event_value > 0 else 0, axis=1)\n",
    "df_full = pd.merge(left=ga_sessions, right=hits, on='session_id', how='inner')"
   ]
  },
  {
   "cell_type": "code",
   "execution_count": 7,
   "id": "6491cc60",
   "metadata": {},
   "outputs": [],
   "source": [
    "del ga_hits, ga_sessions"
   ]
  },
  {
   "cell_type": "code",
   "execution_count": 8,
   "id": "0f5209bc",
   "metadata": {},
   "outputs": [
    {
     "name": "stdout",
     "output_type": "stream",
     "text": [
      "<class 'pandas.core.frame.DataFrame'>\n",
      "Int64Index: 1732266 entries, 0 to 1732265\n",
      "Data columns (total 19 columns):\n",
      " #   Column                    Dtype \n",
      "---  ------                    ----- \n",
      " 0   session_id                object\n",
      " 1   client_id                 object\n",
      " 2   visit_date                object\n",
      " 3   visit_time                object\n",
      " 4   visit_number              int64 \n",
      " 5   utm_source                object\n",
      " 6   utm_medium                object\n",
      " 7   utm_campaign              object\n",
      " 8   utm_adcontent             object\n",
      " 9   utm_keyword               object\n",
      " 10  device_category           object\n",
      " 11  device_os                 object\n",
      " 12  device_brand              object\n",
      " 13  device_model              object\n",
      " 14  device_screen_resolution  object\n",
      " 15  device_browser            object\n",
      " 16  geo_country               object\n",
      " 17  geo_city                  object\n",
      " 18  event_value               int64 \n",
      "dtypes: int64(2), object(17)\n",
      "memory usage: 264.3+ MB\n"
     ]
    }
   ],
   "source": [
    "df_full.info()"
   ]
  },
  {
   "cell_type": "markdown",
   "id": "d10ed008",
   "metadata": {},
   "source": [
    "# Пропуски"
   ]
  },
  {
   "cell_type": "code",
   "execution_count": 9,
   "id": "9a5b7d8a",
   "metadata": {},
   "outputs": [],
   "source": [
    "def missings(data: pd.DataFrame) -> pd.DataFrame:\n",
    "    data = data.copy()\n",
    "    missing_values = [float('nan'), '(none)', '(not set)', '0x0']\n",
    "    \n",
    "    if 'device_screen_resolution' in data.columns:\n",
    "        data['device_screen_resolution'] = data['device_screen_resolution'].replace(missing_values, data.device_screen_resolution.mode()[0])\n",
    "        \n",
    "    if 'geo_country' in data.columns:\n",
    "        data['geo_country'] = data['geo_country'].replace(missing_values, data.geo_country.mode()[0])\n",
    "    \n",
    "    if 'device_os' in data.columns:\n",
    "        data.device_os[(data.device_os.isna()) & (data['device_brand'] == 'Apple')] = 'iOS'\n",
    "        data.device_os[(data.device_os.isna()) & (data['device_brand'] != '') & (data['device_brand'] != '(not set)')] = 'Android'\n",
    "    \n",
    "    return(data.fillna('(not set)'))"
   ]
  },
  {
   "cell_type": "markdown",
   "id": "b0bf2bf2",
   "metadata": {},
   "source": [
    "# Feature_engineering"
   ]
  },
  {
   "cell_type": "code",
   "execution_count": 10,
   "id": "4de62df4",
   "metadata": {},
   "outputs": [],
   "source": [
    "def new_features(data: pd.DataFrame) -> pd.DataFrame:\n",
    "    \n",
    "    data = data.copy()\n",
    "    \n",
    "    distance_from_moscow = pd.read_csv('data/distance_from_moscow.csv', index_col='geo_city').to_dict()\n",
    "    \n",
    "    def distance(city: str) -> float:    \n",
    "        return distance_from_moscow['distance_from_moscow'].get(str(city).lower(), -1)\n",
    "    \n",
    "    organic = ['organic', 'referral', '(none)']\n",
    "    social = ['QxAxdyPLuQMEcrdZWdWb', 'MvfHsxITijuriZxsqZqt', 'ISrKoXQCxqqYvAZICvjs', 'IZEXUFLARCUMynmHNBGo', 'PlbkrSYoHuZBWfYjYnfw', 'gVRrcxiDQubJiljoTbGm']\n",
    "    ussr = ['Azerbaijan', 'Armenia', 'Belarus', 'Georgia', 'Kazakhstan', 'Kyrgyzstan', 'Latvia', 'Lithuania', 'Moldova', 'Tajikistan', 'Turkmenistan', 'Estonia', 'Uzbekistan']\n",
    "    moscow_region = ['Aprelevka', 'Balashikha', 'Chekhov', 'Chernogolovka', 'Dedovsk', \n",
    "    'Dmitrov', 'Dolgoprudny', 'Domodedovo', 'Dubna', 'Dzerzhinsky', \n",
    "    'Elektrogorsk', 'Elektrostal', 'Elektrougli', 'Fryazino', 'Golitsyno', \n",
    "    'Istra', 'Ivanteyevka', 'Kalininets', 'Kashira', 'Khimki', 'Khotkovo', \n",
    "    'Klimovsk', 'Klin', 'Kolomna', 'Korolyov', 'Kotelniki', 'Krasnoarmeysk', \n",
    "    'Krasnogorsk', 'Krasnoznamensk', 'Kubinka', 'Kurovskoye', \n",
    "    'Likino-Dulyovo', 'Lobnya', 'Losino-Petrovsky', 'Lukhovitsy', \n",
    "    'Lytkarino', 'Lyubertsy', 'Mozhaysk', 'Mytishchi', 'Naro-Fominsk', \n",
    "    'Noginsk', 'Odintsovo', 'Orekhovo-Zuyevo', 'Pavlovsky Posad', 'Podolsk', \n",
    "    'Protvino', 'Pushchino', 'Pushkino', 'Ramenskoye', 'Reutov', 'Ruza', \n",
    "    'Sergiyev Posad', 'Serpukhov', 'Shatura', 'Shchyolkovo', \n",
    "    'Solnechnogorsk', 'Staraya Kupavna', 'Stupino', 'Vidnoye', \n",
    "    'Volokolamsk', 'Voskresensk', 'Yakhroma', 'Yegoryevsk', 'Zvenigorod']\n",
    "    millionaire_cities = ['Kazan', 'Moscow', 'Yekaterinburg', 'Saint Petersburg', 'Novosibirsk', 'Nizhny Novgorod', 'Chelyabinsk', 'Omsk', 'Samara', 'Ufa', 'Rostov-on-Don', 'Volgograd', 'Krasnodar', 'Perm']\n",
    "    \n",
    "    if 'session_id' in data.columns:\n",
    "        data = data.set_index('session_id')\n",
    "        \n",
    "    if 'visit_date' in data.columns:\n",
    "        data['visit_date'] = data['visit_date'].astype('datetime64[ns]')\n",
    "        data['weekday'] = data['visit_date'].dt.weekday.astype('category')\n",
    "        data['visit_day'] = data['visit_date'].dt.day.astype('category')\n",
    "    \n",
    "    if 'visit_time' in data.columns:\n",
    "        data['visit_time'] = data['visit_time'].astype(str)\n",
    "        data['visit_time'] = data['visit_time'].astype('datetime64[ns]')\n",
    "        data['hour'] = data.apply(lambda x: x['visit_time'].hour, axis=1).astype('category')\n",
    "        \n",
    "    if 'utm_medium' in data.columns:\n",
    "        data['is_organic'] = data['utm_medium'].isin(organic)\n",
    "        \n",
    "    if 'utm_source' in data.columns:\n",
    "        data['is_social'] = data['utm_source'].isin(social)\n",
    "        \n",
    "    if 'device_screen_resolution' in data.columns:\n",
    "        data[['screen_width', 'screen_height']] = data['device_screen_resolution'].str.split('x', expand=True).astype(float)\n",
    "        data['screen_ratio'] = data['screen_width'] / data['screen_height']\n",
    "        data['screen_area'] = data['screen_width'] * data['screen_height']\n",
    "        \n",
    "    if 'geo_country' in data.columns:\n",
    "        data['is_ussr'] = data['geo_country'].isin(ussr)\n",
    "        \n",
    "    if 'geo_city' in data.columns:\n",
    "        data['moscow_region'] = data['geo_city'].isin(moscow_region)\n",
    "        data['millionaire_city'] = data['geo_city'].isin(millionaire_cities)\n",
    "        data['distance_from_moscow'] = data['geo_city'].apply(lambda x: distance(x))\n",
    "    \n",
    "    return data"
   ]
  },
  {
   "cell_type": "code",
   "execution_count": 11,
   "id": "bce7c6d0",
   "metadata": {},
   "outputs": [],
   "source": [
    "def convert_float(data: pd.DataFrame) -> pd.DataFrame:\n",
    "    return data.astype(float)"
   ]
  },
  {
   "cell_type": "markdown",
   "id": "83d076be",
   "metadata": {},
   "source": [
    "# Pipeline"
   ]
  },
  {
   "cell_type": "code",
   "execution_count": 12,
   "id": "a9485d87",
   "metadata": {},
   "outputs": [],
   "source": [
    "preprocessor = Pipeline(steps=[\n",
    "    ('imputer', FunctionTransformer(missings)),\n",
    "    ('engineer', FunctionTransformer(new_features)),\n",
    "    ('dropper', DropFeatures(['client_id', 'visit_date', 'visit_time', 'device_screen_resolution'])),    \n",
    "#    ('normalization', BoxCoxTransformer()), #*\n",
    "    ('normalization', YeoJohnsonTransformer()),\n",
    "    ('outliers', Winsorizer()),\n",
    "    ('scaler', SklearnTransformerWrapper(StandardScaler())),\n",
    "    ('rare', RareLabelEncoder(tol = 0.005)),\n",
    "    ('oneHotEncoder', OneHotEncoder(drop_last_binary=True)),\n",
    "    ('bool_convert', FunctionTransformer(convert_float)),\n",
    "    ('constantDropper', DropConstantFeatures(tol=0.98)), \n",
    "    ('duplicatedDropper', DropDuplicateFeatures()),\n",
    "    ('correlatedDropper', DropCorrelatedFeatures())    \n",
    "])"
   ]
  },
  {
   "cell_type": "markdown",
   "id": "bf8afff3",
   "metadata": {},
   "source": [
    "# Modeling"
   ]
  },
  {
   "cell_type": "code",
   "execution_count": 13,
   "id": "55690c6f",
   "metadata": {},
   "outputs": [],
   "source": [
    "X_train_valid, X_test, y_train_valid, y_test = train_test_split(df_full.drop(columns=['event_value']), df_full.event_value, \n",
    "                                                                test_size=0.15, stratify=df_full.event_value, random_state=42)\n",
    "X_train, X_valid, y_train, y_valid = train_test_split(X_train_valid, y_train_valid, test_size=0.15, stratify=y_train_valid, random_state=42)"
   ]
  },
  {
   "cell_type": "code",
   "execution_count": 14,
   "id": "45e27893",
   "metadata": {
    "scrolled": true
   },
   "outputs": [
    {
     "name": "stdout",
     "output_type": "stream",
     "text": [
      "Размер тренировочной выборки: (1251562, 18)\n",
      "Размер валидационной выборки: (220864, 18)\n",
      "Размер тестовой выборки: (259840, 18)\n"
     ]
    }
   ],
   "source": [
    "print(f'Размер тренировочной выборки: {X_train.shape}')\n",
    "print(f'Размер валидационной выборки: {X_valid.shape}')\n",
    "print(f'Размер тестовой выборки: {X_test.shape}')"
   ]
  },
  {
   "cell_type": "code",
   "execution_count": 15,
   "id": "6dea475a",
   "metadata": {
    "scrolled": true
   },
   "outputs": [],
   "source": [
    "X_train_preprocessed = preprocessor.fit_transform(X_train)\n",
    "X_valid_preprocessed = preprocessor.transform(X_valid)"
   ]
  },
  {
   "cell_type": "markdown",
   "id": "3ad2c50b",
   "metadata": {},
   "source": [
    "## Поиск лучшего порога"
   ]
  },
  {
   "cell_type": "code",
   "execution_count": 16,
   "id": "a5c025fd",
   "metadata": {},
   "outputs": [],
   "source": [
    "def find_threshold(y: pd.Series, y_proba: pd.Series, best_threshold: float = 0.5, metric_name: str='roc_auc') -> float:    \n",
    "    \n",
    "    def f1(threshold: float) -> float:\n",
    "        predict = (y_proba > threshold).astype(int)\n",
    "        return f1_score(y, predict)\n",
    "    \n",
    "    best_metric = f1(best_threshold)\n",
    "    direction = 1\n",
    "    shift = 0.2\n",
    "    \n",
    "    for i in range(300):\n",
    "        threshold = best_threshold + direction*shift\n",
    "        shift *= 0.9\n",
    "        metric = f1(threshold)\n",
    "        if metric > best_metric:\n",
    "            best_metric = metric\n",
    "            best_threshold = threshold\n",
    "        else:\n",
    "            direction *= -1\n",
    "    return best_threshold"
   ]
  },
  {
   "cell_type": "markdown",
   "id": "62f14222",
   "metadata": {},
   "source": [
    "## Вывод метрик"
   ]
  },
  {
   "cell_type": "code",
   "execution_count": 17,
   "id": "b8d10f9a",
   "metadata": {},
   "outputs": [],
   "source": [
    "def print_metrics(model: BaseEstimator, X: pd.DataFrame, y: pd.Series) -> None:\n",
    "    probas = model.predict_proba(X)[:, 1]\n",
    "    threshold = find_threshold(y, probas)\n",
    "    predict = (probas>threshold).astype(int)\n",
    "    \n",
    "    print(f\"{roc_auc_score(y, probas)} - roc_auc на вероятностях\")\n",
    "    print(f'best threshold: {threshold}')\n",
    "#    print(f'roc-auc: {roc_auc_score(y, predict)}')\n",
    "    print(f'accuracy: {accuracy_score(y, predict)}')\n",
    "    print(f'recall: {recall_score(y, predict)}')\n",
    "    print(f'precision: {precision_score(y, predict)}')\n",
    "    print(f'f1: {f1_score(y, predict)}\\n')\n",
    "    print(confusion_matrix(y, predict))\n",
    "        "
   ]
  },
  {
   "cell_type": "markdown",
   "id": "80202619",
   "metadata": {},
   "source": [
    "# Modeling"
   ]
  },
  {
   "cell_type": "markdown",
   "id": "c81063ba",
   "metadata": {},
   "source": [
    "## Dummy"
   ]
  },
  {
   "cell_type": "code",
   "execution_count": 18,
   "id": "8dc5db0b",
   "metadata": {},
   "outputs": [
    {
     "data": {
      "text/plain": [
       "DummyClassifier(constant=0, strategy='constant')"
      ]
     },
     "execution_count": 18,
     "metadata": {},
     "output_type": "execute_result"
    }
   ],
   "source": [
    "dummy = DummyClassifier(strategy='constant', constant=0)\n",
    "dummy.fit(X_train_preprocessed, y_train)"
   ]
  },
  {
   "cell_type": "code",
   "execution_count": 19,
   "id": "72a21f46",
   "metadata": {},
   "outputs": [
    {
     "name": "stdout",
     "output_type": "stream",
     "text": [
      "0.5 - roc_auc на вероятностях\n",
      "best threshold: 0.5\n",
      "accuracy: 0.9709549768183136\n",
      "recall: 0.0\n",
      "precision: 0.0\n",
      "f1: 0.0\n",
      "\n",
      "[[214449      0]\n",
      " [  6415      0]]\n"
     ]
    }
   ],
   "source": [
    "print_metrics(dummy, X_valid_preprocessed, y_valid)"
   ]
  },
  {
   "cell_type": "markdown",
   "id": "b4b099d6",
   "metadata": {},
   "source": [
    "## logistic regression"
   ]
  },
  {
   "cell_type": "code",
   "execution_count": 20,
   "id": "e56c801f",
   "metadata": {},
   "outputs": [],
   "source": [
    "def optimization_lr(\n",
    "    rare_encoder_tol: float, \n",
    "    constant_dropper_threshold: float,\n",
    "    correlated_dropper_threshold: float,\n",
    "    max_iter: float,\n",
    "    C: float\n",
    ") -> float:\n",
    "    \n",
    "    \n",
    "    model = Pipeline(steps=[\n",
    "        ('imputer', FunctionTransformer(missings)),\n",
    "        ('engineer', FunctionTransformer(new_features)),\n",
    "        ('dropper', DropFeatures(['client_id', 'visit_date', 'visit_time', 'device_screen_resolution'])),    \n",
    "#        ('normalization', BoxCoxTransformer()),\n",
    "        ('normalization', YeoJohnsonTransformer()),\n",
    "        ('outliers', Winsorizer()),\n",
    "        ('scaler', SklearnTransformerWrapper(StandardScaler())),\n",
    "        ('rare', RareLabelEncoder(tol = rare_encoder_tol)),\n",
    "        ('oneHotEncoder', OneHotEncoder(drop_last_binary=True)),\n",
    "        ('bool_convert', FunctionTransformer(convert_float)),\n",
    "        ('constantDropper', DropConstantFeatures(tol=constant_dropper_threshold)),\n",
    "        ('duplicatetDropper', DropDuplicateFeatures()),\n",
    "        ('correlatedDropper', DropCorrelatedFeatures(threshold=correlated_dropper_threshold)),\n",
    "        ('model', LogisticRegression(max_iter=int(max_iter), C=C))])\n",
    "    model.fit(X_train, y_train)\n",
    "    prediction = model.predict_proba(X_valid)[:, 1]\n",
    "    return roc_auc_score(y_valid, prediction)"
   ]
  },
  {
   "cell_type": "code",
   "execution_count": 21,
   "id": "55f7f136",
   "metadata": {},
   "outputs": [],
   "source": [
    "optimizing_parameters_lr = {\n",
    "    'C': (0.5, 3), \n",
    "    'max_iter': (50, 500),\n",
    "    'rare_encoder_tol': (0.01, 0.1), \n",
    "    'constant_dropper_threshold': (0.95, 0.99),\n",
    "    'correlated_dropper_threshold': (0.7, 0.99) \n",
    "    }"
   ]
  },
  {
   "cell_type": "code",
   "execution_count": 22,
   "id": "52d20c82",
   "metadata": {
    "scrolled": true
   },
   "outputs": [
    {
     "name": "stdout",
     "output_type": "stream",
     "text": [
      "|   iter    |  target   |     C     | consta... | correl... | max_iter  | rare_e... |\n",
      "-------------------------------------------------------------------------------------\n",
      "| \u001b[0m1        \u001b[0m | \u001b[0m0.6674   \u001b[0m | \u001b[0m1.436    \u001b[0m | \u001b[0m0.988    \u001b[0m | \u001b[0m0.9123   \u001b[0m | \u001b[0m319.4    \u001b[0m | \u001b[0m0.02404  \u001b[0m |\n",
      "| \u001b[0m2        \u001b[0m | \u001b[0m0.6589   \u001b[0m | \u001b[0m0.89     \u001b[0m | \u001b[0m0.9523   \u001b[0m | \u001b[0m0.9512   \u001b[0m | \u001b[0m320.5    \u001b[0m | \u001b[0m0.07373  \u001b[0m |\n",
      "| \u001b[0m3        \u001b[0m | \u001b[0m0.6652   \u001b[0m | \u001b[0m0.5515   \u001b[0m | \u001b[0m0.9888   \u001b[0m | \u001b[0m0.9414   \u001b[0m | \u001b[0m145.6    \u001b[0m | \u001b[0m0.02636  \u001b[0m |\n",
      "| \u001b[0m4        \u001b[0m | \u001b[0m0.6584   \u001b[0m | \u001b[0m0.5803   \u001b[0m | \u001b[0m0.9553   \u001b[0m | \u001b[0m0.899    \u001b[0m | \u001b[0m145.6    \u001b[0m | \u001b[0m0.08718  \u001b[0m |\n",
      "| \u001b[0m5        \u001b[0m | \u001b[0m0.6552   \u001b[0m | \u001b[0m2.766    \u001b[0m | \u001b[0m0.9542   \u001b[0m | \u001b[0m0.7427   \u001b[0m | \u001b[0m466.4    \u001b[0m | \u001b[0m0.07936  \u001b[0m |\n",
      "=====================================================================================\n"
     ]
    }
   ],
   "source": [
    "best_score_lr, best_parameters_lr = 0.0, dict()\n",
    "\n",
    "optimizer_lr = BayesianOptimization(\n",
    "    optimization_lr, \n",
    "    optimizing_parameters_lr, random_state=42)\n",
    "optimizer_lr.maximize(init_points=3, n_iter=2)\n",
    "    \n",
    "best_score_lr = optimizer_lr.max['target']\n",
    "best_parameters_lr.update(optimizer_lr.max['params'])"
   ]
  },
  {
   "cell_type": "code",
   "execution_count": 23,
   "id": "f55879c2",
   "metadata": {},
   "outputs": [
    {
     "data": {
      "text/plain": [
       "LogisticRegression(C=1.4363502971184063, max_iter=319, solver='saga')"
      ]
     },
     "execution_count": 23,
     "metadata": {},
     "output_type": "execute_result"
    }
   ],
   "source": [
    "lr = LogisticRegression(max_iter=int(best_parameters_lr['max_iter']), C=best_parameters_lr['C'], solver='saga', penalty='l2')\n",
    "lr.fit(X_train_preprocessed, y_train)"
   ]
  },
  {
   "cell_type": "code",
   "execution_count": 24,
   "id": "5e9db458",
   "metadata": {
    "scrolled": true
   },
   "outputs": [
    {
     "name": "stdout",
     "output_type": "stream",
     "text": [
      "0.6673027055176629 - roc_auc на вероятностях\n",
      "best threshold: 0.5\n",
      "accuracy: 0.9709549768183136\n",
      "recall: 0.0\n",
      "precision: 0.0\n",
      "f1: 0.0\n",
      "\n",
      "[[214449      0]\n",
      " [  6415      0]]\n"
     ]
    }
   ],
   "source": [
    "print_metrics(lr, X_valid_preprocessed, y_valid)"
   ]
  },
  {
   "cell_type": "markdown",
   "id": "ea9c9344",
   "metadata": {},
   "source": [
    "## Decision Tree"
   ]
  },
  {
   "cell_type": "code",
   "execution_count": 25,
   "id": "af87b912",
   "metadata": {},
   "outputs": [],
   "source": [
    "tree = DecisionTreeClassifier(random_state=42)"
   ]
  },
  {
   "cell_type": "code",
   "execution_count": 26,
   "id": "e81df61f",
   "metadata": {},
   "outputs": [
    {
     "name": "stdout",
     "output_type": "stream",
     "text": [
      "CPU times: user 16.3 s, sys: 111 ms, total: 16.4 s\n",
      "Wall time: 16.4 s\n"
     ]
    },
    {
     "data": {
      "text/plain": [
       "DecisionTreeClassifier(random_state=42)"
      ]
     },
     "execution_count": 26,
     "metadata": {},
     "output_type": "execute_result"
    }
   ],
   "source": [
    "%%time\n",
    "tree.fit(X_train_preprocessed, y_train)"
   ]
  },
  {
   "cell_type": "code",
   "execution_count": 27,
   "id": "88d9036e",
   "metadata": {},
   "outputs": [
    {
     "name": "stdout",
     "output_type": "stream",
     "text": [
      "0.5181655706696522 - roc_auc на вероятностях\n",
      "best threshold: 0.7\n",
      "accuracy: 0.945763003477253\n",
      "recall: 0.057833203429462195\n",
      "precision: 0.058832857595940376\n",
      "f1: 0.058328747739957554\n",
      "\n",
      "[[208514   5935]\n",
      " [  6044    371]]\n"
     ]
    }
   ],
   "source": [
    "print_metrics(tree, X_valid_preprocessed, y_valid)"
   ]
  },
  {
   "cell_type": "markdown",
   "id": "74de62c4",
   "metadata": {},
   "source": [
    "## RandomForest"
   ]
  },
  {
   "cell_type": "code",
   "execution_count": 28,
   "id": "072f6deb",
   "metadata": {},
   "outputs": [],
   "source": [
    "rf = RandomForestClassifier(random_state=42)"
   ]
  },
  {
   "cell_type": "code",
   "execution_count": 29,
   "id": "c32f6a80",
   "metadata": {},
   "outputs": [
    {
     "name": "stdout",
     "output_type": "stream",
     "text": [
      "CPU times: user 2min 45s, sys: 1.1 s, total: 2min 47s\n",
      "Wall time: 2min 47s\n"
     ]
    },
    {
     "data": {
      "text/plain": [
       "RandomForestClassifier(random_state=42)"
      ]
     },
     "execution_count": 29,
     "metadata": {},
     "output_type": "execute_result"
    }
   ],
   "source": [
    "%%time\n",
    "rf.fit(X_train_preprocessed, y_train)"
   ]
  },
  {
   "cell_type": "code",
   "execution_count": 30,
   "id": "b5458c35",
   "metadata": {},
   "outputs": [
    {
     "name": "stdout",
     "output_type": "stream",
     "text": [
      "0.6290601100283227 - roc_auc на вероятностях\n",
      "best threshold: 0.07991778605075303\n",
      "accuracy: 0.8794733410605622\n",
      "recall: 0.21730319563522993\n",
      "precision: 0.06062714739268473\n",
      "f1: 0.09480413492927096\n",
      "\n",
      "[[192850  21599]\n",
      " [  5021   1394]]\n"
     ]
    }
   ],
   "source": [
    "print_metrics(rf, X_valid_preprocessed, y_valid)"
   ]
  },
  {
   "cell_type": "markdown",
   "id": "025ead19",
   "metadata": {},
   "source": [
    "## MLP"
   ]
  },
  {
   "cell_type": "code",
   "execution_count": 31,
   "id": "ed7ee28d",
   "metadata": {},
   "outputs": [],
   "source": [
    "mlp = MLPClassifier(random_state=42)"
   ]
  },
  {
   "cell_type": "code",
   "execution_count": 32,
   "id": "914bc5e9",
   "metadata": {},
   "outputs": [
    {
     "name": "stdout",
     "output_type": "stream",
     "text": [
      "CPU times: user 12min 2s, sys: 3min 26s, total: 15min 28s\n",
      "Wall time: 2min 18s\n"
     ]
    },
    {
     "data": {
      "text/plain": [
       "MLPClassifier(random_state=42)"
      ]
     },
     "execution_count": 32,
     "metadata": {},
     "output_type": "execute_result"
    }
   ],
   "source": [
    "%%time\n",
    "mlp.fit(X_train_preprocessed, y_train)"
   ]
  },
  {
   "cell_type": "code",
   "execution_count": 33,
   "id": "428d0516",
   "metadata": {},
   "outputs": [
    {
     "name": "stdout",
     "output_type": "stream",
     "text": [
      "0.6823950838471218 - roc_auc на вероятностях\n",
      "best threshold: 0.07396250588826768\n",
      "accuracy: 0.8972127644161113\n",
      "recall: 0.2265003897116134\n",
      "precision: 0.07570468399937477\n",
      "f1: 0.11348016244923463\n",
      "\n",
      "[[196709  17740]\n",
      " [  4962   1453]]\n"
     ]
    }
   ],
   "source": [
    "print_metrics(mlp, X_valid_preprocessed, y_valid)"
   ]
  },
  {
   "cell_type": "markdown",
   "id": "f054edec",
   "metadata": {},
   "source": [
    "## Метод опорных векторов"
   ]
  },
  {
   "cell_type": "code",
   "execution_count": 34,
   "id": "67756c10",
   "metadata": {},
   "outputs": [],
   "source": [
    "svc = LinearSVC(class_weight='balanced')"
   ]
  },
  {
   "cell_type": "code",
   "execution_count": 35,
   "id": "4eaf6d4f",
   "metadata": {},
   "outputs": [
    {
     "name": "stdout",
     "output_type": "stream",
     "text": [
      "CPU times: user 6min 12s, sys: 1.05 s, total: 6min 13s\n",
      "Wall time: 6min 13s\n"
     ]
    },
    {
     "data": {
      "text/plain": [
       "LinearSVC(class_weight='balanced')"
      ]
     },
     "execution_count": 35,
     "metadata": {},
     "output_type": "execute_result"
    }
   ],
   "source": [
    "%%time\n",
    "svc.fit(X_train_preprocessed, y_train)"
   ]
  },
  {
   "cell_type": "code",
   "execution_count": 36,
   "id": "4392d294",
   "metadata": {},
   "outputs": [
    {
     "data": {
      "text/plain": [
       "0.6190236351409708"
      ]
     },
     "execution_count": 36,
     "metadata": {},
     "output_type": "execute_result"
    }
   ],
   "source": [
    "roc_auc_score(y_valid, svc.predict(X_valid_preprocessed))"
   ]
  },
  {
   "cell_type": "markdown",
   "id": "08a418f7",
   "metadata": {},
   "source": [
    "## Градиентный бустинг"
   ]
  },
  {
   "cell_type": "code",
   "execution_count": 37,
   "id": "cfae750a",
   "metadata": {},
   "outputs": [],
   "source": [
    "def optimization_hb(\n",
    "    rare_encoder_tol: float, \n",
    "    constant_dropper_threshold: float,\n",
    "    correlated_dropper_threshold: float,\n",
    "    max_iter: float,\n",
    "    min_samples_leaf: float,\n",
    "    max_leaf_nodes: float,\n",
    "    max_bins: float,\n",
    "    learning_rate: float\n",
    ") -> float:\n",
    "    \n",
    "    \n",
    "    model = Pipeline(steps=[\n",
    "        ('imputer', FunctionTransformer(missings)),\n",
    "        ('engineer', FunctionTransformer(new_features)),\n",
    "        ('dropper', DropFeatures(['client_id', 'visit_date', 'visit_time', 'device_screen_resolution'])),    \n",
    "#        ('normalization', BoxCoxTransformer()),\n",
    "        ('normalization', YeoJohnsonTransformer()),\n",
    "        ('outliers', Winsorizer()),\n",
    "        ('scaler', SklearnTransformerWrapper(StandardScaler())),\n",
    "        ('rare', RareLabelEncoder(tol = rare_encoder_tol)),\n",
    "        ('oneHotEncoder', OneHotEncoder(drop_last_binary=True)),\n",
    "        ('bool_convert', FunctionTransformer(convert_float)),\n",
    "        ('constantDropper', DropConstantFeatures(tol=constant_dropper_threshold)),\n",
    "        ('duplicatetDropper', DropDuplicateFeatures()),\n",
    "        ('correlatedDropper', DropCorrelatedFeatures(threshold=correlated_dropper_threshold)),\n",
    "        ('model', HistGradientBoostingClassifier(max_iter=int(max_iter), max_bins=int(max_bins),learning_rate=learning_rate, min_samples_leaf=int(min_samples_leaf), max_leaf_nodes=int(max_leaf_nodes)))])\n",
    "    model.fit(X_train, y_train)\n",
    "    prediction = model.predict_proba(X_valid)[:, 1]\n",
    "    return roc_auc_score(y_valid, prediction)"
   ]
  },
  {
   "cell_type": "code",
   "execution_count": 38,
   "id": "44d40d8a",
   "metadata": {},
   "outputs": [],
   "source": [
    "optimizing_parameters_hb = {\n",
    "    'learning_rate': (0.01, 0.2), \n",
    "    'max_iter': (50, 500),\n",
    "    'rare_encoder_tol': (0.01, 0.1), \n",
    "    'constant_dropper_threshold': (0.95, 0.99),\n",
    "    'correlated_dropper_threshold': (0.7, 0.99), \n",
    "    'max_leaf_nodes': (15, 60),\n",
    "    'min_samples_leaf': (12, 35),\n",
    "    'max_bins': (100, 255)\n",
    "    }"
   ]
  },
  {
   "cell_type": "code",
   "execution_count": 39,
   "id": "68b4e467",
   "metadata": {
    "scrolled": true
   },
   "outputs": [
    {
     "name": "stdout",
     "output_type": "stream",
     "text": [
      "|   iter    |  target   | consta... | correl... | learni... | max_bins  | max_iter  | max_le... | min_sa... | rare_e... |\n",
      "-------------------------------------------------------------------------------------------------------------------------\n",
      "| \u001b[0m1        \u001b[0m | \u001b[0m0.6869   \u001b[0m | \u001b[0m0.965    \u001b[0m | \u001b[0m0.9757   \u001b[0m | \u001b[0m0.1491   \u001b[0m | \u001b[0m192.8    \u001b[0m | \u001b[0m120.2    \u001b[0m | \u001b[0m22.02    \u001b[0m | \u001b[0m13.34    \u001b[0m | \u001b[0m0.08796  \u001b[0m |\n",
      "| \u001b[95m2        \u001b[0m | \u001b[95m0.6895   \u001b[0m | \u001b[95m0.974    \u001b[0m | \u001b[95m0.9053   \u001b[0m | \u001b[95m0.01391  \u001b[0m | \u001b[95m250.3    \u001b[0m | \u001b[95m424.6    \u001b[0m | \u001b[95m24.56    \u001b[0m | \u001b[95m16.18    \u001b[0m | \u001b[95m0.02651  \u001b[0m |\n",
      "| \u001b[95m3        \u001b[0m | \u001b[95m0.6911   \u001b[0m | \u001b[95m0.9622   \u001b[0m | \u001b[95m0.8522   \u001b[0m | \u001b[95m0.09207  \u001b[0m | \u001b[95m145.1    \u001b[0m | \u001b[95m325.3    \u001b[0m | \u001b[95m21.28    \u001b[0m | \u001b[95m18.72    \u001b[0m | \u001b[95m0.04297  \u001b[0m |\n",
      "| \u001b[95m4        \u001b[0m | \u001b[95m0.6914   \u001b[0m | \u001b[95m0.9658   \u001b[0m | \u001b[95m0.8233   \u001b[0m | \u001b[95m0.07795  \u001b[0m | \u001b[95m144.9    \u001b[0m | \u001b[95m320.9    \u001b[0m | \u001b[95m23.45    \u001b[0m | \u001b[95m29.69    \u001b[0m | \u001b[95m0.05335  \u001b[0m |\n",
      "| \u001b[0m5        \u001b[0m | \u001b[0m0.6912   \u001b[0m | \u001b[0m0.9506   \u001b[0m | \u001b[0m0.7975   \u001b[0m | \u001b[0m0.07727  \u001b[0m | \u001b[0m100.4    \u001b[0m | \u001b[0m400.8    \u001b[0m | \u001b[0m56.08    \u001b[0m | \u001b[0m34.97    \u001b[0m | \u001b[0m0.05579  \u001b[0m |\n",
      "=========================================================================================================================\n"
     ]
    }
   ],
   "source": [
    "best_score_hb, best_parameters_hb = 0.0, dict()\n",
    "\n",
    "optimizer_hb = BayesianOptimization(\n",
    "    optimization_hb, \n",
    "    optimizing_parameters_hb, random_state=42)\n",
    "optimizer_hb.maximize(init_points=3, n_iter=2)\n",
    "    \n",
    "best_score_hb = optimizer_hb.max['target']\n",
    "best_parameters_hb.update(optimizer_hb.max['params'])"
   ]
  },
  {
   "cell_type": "code",
   "execution_count": 40,
   "id": "6e59a522",
   "metadata": {
    "scrolled": true
   },
   "outputs": [
    {
     "data": {
      "text/plain": [
       "HistGradientBoostingClassifier(learning_rate=0.0779484687028613, max_bins=144,\n",
       "                               max_iter=320, max_leaf_nodes=23,\n",
       "                               min_samples_leaf=29, random_state=42)"
      ]
     },
     "execution_count": 40,
     "metadata": {},
     "output_type": "execute_result"
    }
   ],
   "source": [
    "hb = HistGradientBoostingClassifier(max_iter=int(best_parameters_hb['max_iter']), \n",
    "                                    max_bins=int(best_parameters_hb['max_bins']), \n",
    "                                    learning_rate=best_parameters_hb['learning_rate'],\n",
    "                                    max_leaf_nodes=int(best_parameters_hb['max_leaf_nodes']), \n",
    "                                    min_samples_leaf=int(best_parameters_hb['min_samples_leaf']),\n",
    "                                    random_state=42)\n",
    "hb.fit(X_train_preprocessed, y_train)"
   ]
  },
  {
   "cell_type": "code",
   "execution_count": 41,
   "id": "959b6d3e",
   "metadata": {},
   "outputs": [
    {
     "name": "stdout",
     "output_type": "stream",
     "text": [
      "0.6918319067059522 - roc_auc на вероятностях\n",
      "best threshold: 0.05973362045702502\n",
      "accuracy: 0.915703781512605\n",
      "recall: 0.20280592361652378\n",
      "precision: 0.0878757176629517\n",
      "f1: 0.12262016965127237\n",
      "\n",
      "[[200945  13504]\n",
      " [  5114   1301]]\n"
     ]
    }
   ],
   "source": [
    "print_metrics(hb, X_valid_preprocessed, y_valid)"
   ]
  },
  {
   "cell_type": "markdown",
   "id": "4896c860",
   "metadata": {},
   "source": [
    "## LGBMClassifier"
   ]
  },
  {
   "cell_type": "code",
   "execution_count": 42,
   "id": "85963156",
   "metadata": {},
   "outputs": [],
   "source": [
    "def optimization_lgbm(\n",
    "    rare_encoder_tol: float, \n",
    "    constant_dropper_threshold: float,\n",
    "    correlated_dropper_threshold: float, \n",
    "    n_estimators: float, \n",
    "    num_leaves: float, \n",
    "    learning_rate: float, \n",
    "    reg_lambda: float, \n",
    "    reg_alpha: float, \n",
    "    min_child_samples: float,\n",
    "    boosting_type: str = 'goss'\n",
    ") -> float:\n",
    "    \n",
    "    \n",
    "    model = Pipeline(steps=[\n",
    "        ('imputer', FunctionTransformer(missings)),\n",
    "        ('engineer', FunctionTransformer(new_features)),\n",
    "        ('dropper', DropFeatures(['client_id', 'visit_date', 'visit_time', 'device_screen_resolution'])),    \n",
    "#        ('normalization', BoxCoxTransformer()),\n",
    "        ('normalization', YeoJohnsonTransformer()),\n",
    "        ('outliers', Winsorizer()),\n",
    "        ('scaler', SklearnTransformerWrapper(StandardScaler())),\n",
    "        ('rare', RareLabelEncoder(tol = rare_encoder_tol)),\n",
    "        ('oneHotEncoder', OneHotEncoder(drop_last_binary=True)),\n",
    "        ('bool_convert', FunctionTransformer(convert_float)),\n",
    "        ('constantDropper', DropConstantFeatures(tol=constant_dropper_threshold)),\n",
    "        ('duplicatetDropper', DropDuplicateFeatures()),\n",
    "        ('correlatedDropper', DropCorrelatedFeatures(threshold=correlated_dropper_threshold)),\n",
    "        ('model', LGBMClassifier(n_estimators=int(n_estimators), num_leaves=int(num_leaves), learning_rate=learning_rate, reg_lambda=reg_lambda,\n",
    "                    reg_alpha=reg_alpha, min_child_samples=int(min_child_samples), boosting_type=boosting_type, random_state=42))])\n",
    "    model.fit(X_train, y_train)\n",
    "    prediction = model.predict_proba(X_valid)[:, 1]\n",
    "    return roc_auc_score(y_valid, prediction)\n",
    "    "
   ]
  },
  {
   "cell_type": "code",
   "execution_count": 43,
   "id": "d3d81994",
   "metadata": {},
   "outputs": [],
   "source": [
    "optimizing_parameters_lgbm = {\n",
    "    'rare_encoder_tol': (0.01, 0.1), \n",
    "    'constant_dropper_threshold': (0.95, 0.99),\n",
    "    'correlated_dropper_threshold': (0.7, 0.99), \n",
    "    'n_estimators': (500, 5000), \n",
    "    'num_leaves': (10, 120), \n",
    "    'learning_rate': (0.01, 0.25), \n",
    "    'reg_lambda': (0, 50),  \n",
    "    'reg_alpha': (0, 50),\n",
    "    'min_child_samples': (10, 45)}"
   ]
  },
  {
   "cell_type": "code",
   "execution_count": 46,
   "id": "1d4fd7b6",
   "metadata": {},
   "outputs": [
    {
     "name": "stdout",
     "output_type": "stream",
     "text": [
      "boosting_type = gbdt\n",
      "|   iter    |  target   | consta... | correl... | learni... | min_ch... | n_esti... | num_le... | rare_e... | reg_alpha | reg_la... |\n",
      "-------------------------------------------------------------------------------------------------------------------------------------\n",
      "| \u001b[0m1        \u001b[0m | \u001b[0m0.6888   \u001b[0m | \u001b[0m0.965    \u001b[0m | \u001b[0m0.9757   \u001b[0m | \u001b[0m0.1857   \u001b[0m | \u001b[0m30.95    \u001b[0m | \u001b[0m1.202e+03\u001b[0m | \u001b[0m27.16    \u001b[0m | \u001b[0m0.01523  \u001b[0m | \u001b[0m43.31    \u001b[0m | \u001b[0m30.06    \u001b[0m |\n",
      "| \u001b[95m2        \u001b[0m | \u001b[95m0.6965   \u001b[0m | \u001b[95m0.9783   \u001b[0m | \u001b[95m0.706    \u001b[0m | \u001b[95m0.2428   \u001b[0m | \u001b[95m39.14    \u001b[0m | \u001b[95m1.456e+03\u001b[0m | \u001b[95m30.0     \u001b[0m | \u001b[95m0.02651  \u001b[0m | \u001b[95m15.21    \u001b[0m | \u001b[95m26.24    \u001b[0m |\n",
      "| \u001b[0m3        \u001b[0m | \u001b[0m0.6893   \u001b[0m | \u001b[0m0.9673   \u001b[0m | \u001b[0m0.7845   \u001b[0m | \u001b[0m0.1568   \u001b[0m | \u001b[0m14.88    \u001b[0m | \u001b[0m1.815e+03\u001b[0m | \u001b[0m50.3     \u001b[0m | \u001b[0m0.05105  \u001b[0m | \u001b[0m39.26    \u001b[0m | \u001b[0m9.984    \u001b[0m |\n",
      "| \u001b[0m4        \u001b[0m | \u001b[0m0.6826   \u001b[0m | \u001b[0m0.9706   \u001b[0m | \u001b[0m0.8718   \u001b[0m | \u001b[0m0.02115  \u001b[0m | \u001b[0m31.26    \u001b[0m | \u001b[0m1.267e+03\u001b[0m | \u001b[0m17.16    \u001b[0m | \u001b[0m0.0954   \u001b[0m | \u001b[0m48.28    \u001b[0m | \u001b[0m40.42    \u001b[0m |\n",
      "| \u001b[0m5        \u001b[0m | \u001b[0m0.6888   \u001b[0m | \u001b[0m0.9622   \u001b[0m | \u001b[0m0.7283   \u001b[0m | \u001b[0m0.1742   \u001b[0m | \u001b[0m25.41    \u001b[0m | \u001b[0m1.049e+03\u001b[0m | \u001b[0m64.47    \u001b[0m | \u001b[0m0.01309  \u001b[0m | \u001b[0m45.47    \u001b[0m | \u001b[0m12.94    \u001b[0m |\n",
      "| \u001b[0m6        \u001b[0m | \u001b[0m0.694    \u001b[0m | \u001b[0m0.968    \u001b[0m | \u001b[0m0.8276   \u001b[0m | \u001b[0m0.03187  \u001b[0m | \u001b[0m35.15    \u001b[0m | \u001b[0m1.462e+03\u001b[0m | \u001b[0m31.66    \u001b[0m | \u001b[0m0.04715  \u001b[0m | \u001b[0m11.39    \u001b[0m | \u001b[0m29.19    \u001b[0m |\n",
      "| \u001b[0m7        \u001b[0m | \u001b[0m0.6915   \u001b[0m | \u001b[0m0.9819   \u001b[0m | \u001b[0m0.8346   \u001b[0m | \u001b[0m0.1314   \u001b[0m | \u001b[0m38.78    \u001b[0m | \u001b[0m1.46e+03 \u001b[0m | \u001b[0m31.33    \u001b[0m | \u001b[0m0.03745  \u001b[0m | \u001b[0m27.14    \u001b[0m | \u001b[0m31.48    \u001b[0m |\n",
      "| \u001b[0m8        \u001b[0m | \u001b[0m0.6895   \u001b[0m | \u001b[0m0.9675   \u001b[0m | \u001b[0m0.9767   \u001b[0m | \u001b[0m0.05432  \u001b[0m | \u001b[0m42.69    \u001b[0m | \u001b[0m2.491e+03\u001b[0m | \u001b[0m38.67    \u001b[0m | \u001b[0m0.06471  \u001b[0m | \u001b[0m20.19    \u001b[0m | \u001b[0m19.9     \u001b[0m |\n",
      "| \u001b[0m9        \u001b[0m | \u001b[0m0.6896   \u001b[0m | \u001b[0m0.9785   \u001b[0m | \u001b[0m0.8024   \u001b[0m | \u001b[0m0.05016  \u001b[0m | \u001b[0m27.98    \u001b[0m | \u001b[0m1.451e+03\u001b[0m | \u001b[0m40.31    \u001b[0m | \u001b[0m0.09988  \u001b[0m | \u001b[0m11.05    \u001b[0m | \u001b[0m19.86    \u001b[0m |\n",
      "| \u001b[0m10       \u001b[0m | \u001b[0m0.6914   \u001b[0m | \u001b[0m0.9501   \u001b[0m | \u001b[0m0.7988   \u001b[0m | \u001b[0m0.1426   \u001b[0m | \u001b[0m43.54    \u001b[0m | \u001b[0m1.455e+03\u001b[0m | \u001b[0m33.92    \u001b[0m | \u001b[0m0.02786  \u001b[0m | \u001b[0m1.666    \u001b[0m | \u001b[0m33.97    \u001b[0m |\n",
      "| \u001b[0m11       \u001b[0m | \u001b[0m0.6959   \u001b[0m | \u001b[0m0.9852   \u001b[0m | \u001b[0m0.8116   \u001b[0m | \u001b[0m0.1243   \u001b[0m | \u001b[0m39.36    \u001b[0m | \u001b[0m1.454e+03\u001b[0m | \u001b[0m32.8     \u001b[0m | \u001b[0m0.03854  \u001b[0m | \u001b[0m2.079    \u001b[0m | \u001b[0m38.27    \u001b[0m |\n",
      "| \u001b[0m12       \u001b[0m | \u001b[0m0.6939   \u001b[0m | \u001b[0m0.9692   \u001b[0m | \u001b[0m0.7362   \u001b[0m | \u001b[0m0.2149   \u001b[0m | \u001b[0m29.48    \u001b[0m | \u001b[0m1.455e+03\u001b[0m | \u001b[0m26.85    \u001b[0m | \u001b[0m0.03623  \u001b[0m | \u001b[0m16.57    \u001b[0m | \u001b[0m37.73    \u001b[0m |\n",
      "| \u001b[0m13       \u001b[0m | \u001b[0m0.694    \u001b[0m | \u001b[0m0.9706   \u001b[0m | \u001b[0m0.9024   \u001b[0m | \u001b[0m0.05519  \u001b[0m | \u001b[0m25.32    \u001b[0m | \u001b[0m1.452e+03\u001b[0m | \u001b[0m39.53    \u001b[0m | \u001b[0m0.02266  \u001b[0m | \u001b[0m22.05    \u001b[0m | \u001b[0m40.88    \u001b[0m |\n",
      "| \u001b[0m14       \u001b[0m | \u001b[0m0.6872   \u001b[0m | \u001b[0m0.9778   \u001b[0m | \u001b[0m0.7227   \u001b[0m | \u001b[0m0.1831   \u001b[0m | \u001b[0m42.32    \u001b[0m | \u001b[0m1.454e+03\u001b[0m | \u001b[0m21.53    \u001b[0m | \u001b[0m0.09296  \u001b[0m | \u001b[0m16.34    \u001b[0m | \u001b[0m16.54    \u001b[0m |\n",
      "| \u001b[0m15       \u001b[0m | \u001b[0m0.6885   \u001b[0m | \u001b[0m0.9898   \u001b[0m | \u001b[0m0.7299   \u001b[0m | \u001b[0m0.2412   \u001b[0m | \u001b[0m33.71    \u001b[0m | \u001b[0m1.458e+03\u001b[0m | \u001b[0m35.41    \u001b[0m | \u001b[0m0.06377  \u001b[0m | \u001b[0m15.94    \u001b[0m | \u001b[0m34.23    \u001b[0m |\n",
      "=====================================================================================================================================\n",
      "boosting_type = goss\n",
      "|   iter    |  target   | consta... | correl... | learni... | min_ch... | n_esti... | num_le... | rare_e... | reg_alpha | reg_la... |\n",
      "-------------------------------------------------------------------------------------------------------------------------------------\n",
      "| \u001b[0m1        \u001b[0m | \u001b[0m0.6947   \u001b[0m | \u001b[0m0.965    \u001b[0m | \u001b[0m0.9757   \u001b[0m | \u001b[0m0.1857   \u001b[0m | \u001b[0m30.95    \u001b[0m | \u001b[0m1.202e+03\u001b[0m | \u001b[0m27.16    \u001b[0m | \u001b[0m0.01523  \u001b[0m | \u001b[0m43.31    \u001b[0m | \u001b[0m30.06    \u001b[0m |\n",
      "| \u001b[95m2        \u001b[0m | \u001b[95m0.6978   \u001b[0m | \u001b[95m0.9783   \u001b[0m | \u001b[95m0.706    \u001b[0m | \u001b[95m0.2428   \u001b[0m | \u001b[95m39.14    \u001b[0m | \u001b[95m1.456e+03\u001b[0m | \u001b[95m30.0     \u001b[0m | \u001b[95m0.02651  \u001b[0m | \u001b[95m15.21    \u001b[0m | \u001b[95m26.24    \u001b[0m |\n",
      "| \u001b[0m3        \u001b[0m | \u001b[0m0.6925   \u001b[0m | \u001b[0m0.9673   \u001b[0m | \u001b[0m0.7845   \u001b[0m | \u001b[0m0.1568   \u001b[0m | \u001b[0m14.88    \u001b[0m | \u001b[0m1.815e+03\u001b[0m | \u001b[0m50.3     \u001b[0m | \u001b[0m0.05105  \u001b[0m | \u001b[0m39.26    \u001b[0m | \u001b[0m9.984    \u001b[0m |\n",
      "| \u001b[0m4        \u001b[0m | \u001b[0m0.6841   \u001b[0m | \u001b[0m0.9706   \u001b[0m | \u001b[0m0.8718   \u001b[0m | \u001b[0m0.02115  \u001b[0m | \u001b[0m31.26    \u001b[0m | \u001b[0m1.267e+03\u001b[0m | \u001b[0m17.16    \u001b[0m | \u001b[0m0.0954   \u001b[0m | \u001b[0m48.28    \u001b[0m | \u001b[0m40.42    \u001b[0m |\n",
      "| \u001b[0m5        \u001b[0m | \u001b[0m0.6929   \u001b[0m | \u001b[0m0.9622   \u001b[0m | \u001b[0m0.7283   \u001b[0m | \u001b[0m0.1742   \u001b[0m | \u001b[0m25.41    \u001b[0m | \u001b[0m1.049e+03\u001b[0m | \u001b[0m64.47    \u001b[0m | \u001b[0m0.01309  \u001b[0m | \u001b[0m45.47    \u001b[0m | \u001b[0m12.94    \u001b[0m |\n",
      "| \u001b[0m6        \u001b[0m | \u001b[0m0.6948   \u001b[0m | \u001b[0m0.968    \u001b[0m | \u001b[0m0.8276   \u001b[0m | \u001b[0m0.03187  \u001b[0m | \u001b[0m35.15    \u001b[0m | \u001b[0m1.462e+03\u001b[0m | \u001b[0m31.66    \u001b[0m | \u001b[0m0.04715  \u001b[0m | \u001b[0m11.39    \u001b[0m | \u001b[0m29.19    \u001b[0m |\n",
      "| \u001b[0m7        \u001b[0m | \u001b[0m0.6897   \u001b[0m | \u001b[0m0.9525   \u001b[0m | \u001b[0m0.7895   \u001b[0m | \u001b[0m0.09634  \u001b[0m | \u001b[0m27.64    \u001b[0m | \u001b[0m1.054e+03\u001b[0m | \u001b[0m68.96    \u001b[0m | \u001b[0m0.03372  \u001b[0m | \u001b[0m48.49    \u001b[0m | \u001b[0m10.32    \u001b[0m |\n",
      "| \u001b[0m8        \u001b[0m | \u001b[0m0.6917   \u001b[0m | \u001b[0m0.9675   \u001b[0m | \u001b[0m0.9767   \u001b[0m | \u001b[0m0.05432  \u001b[0m | \u001b[0m42.69    \u001b[0m | \u001b[0m2.491e+03\u001b[0m | \u001b[0m38.67    \u001b[0m | \u001b[0m0.06471  \u001b[0m | \u001b[0m20.19    \u001b[0m | \u001b[0m19.9     \u001b[0m |\n",
      "| \u001b[0m9        \u001b[0m | \u001b[0m0.6911   \u001b[0m | \u001b[0m0.9785   \u001b[0m | \u001b[0m0.8024   \u001b[0m | \u001b[0m0.05016  \u001b[0m | \u001b[0m27.98    \u001b[0m | \u001b[0m1.451e+03\u001b[0m | \u001b[0m40.31    \u001b[0m | \u001b[0m0.09988  \u001b[0m | \u001b[0m11.05    \u001b[0m | \u001b[0m19.86    \u001b[0m |\n",
      "| \u001b[0m10       \u001b[0m | \u001b[0m0.6904   \u001b[0m | \u001b[0m0.9886   \u001b[0m | \u001b[0m0.8866   \u001b[0m | \u001b[0m0.08715  \u001b[0m | \u001b[0m36.59    \u001b[0m | \u001b[0m1.047e+03\u001b[0m | \u001b[0m54.08    \u001b[0m | \u001b[0m0.09477  \u001b[0m | \u001b[0m11.0     \u001b[0m | \u001b[0m17.01    \u001b[0m |\n",
      "| \u001b[0m11       \u001b[0m | \u001b[0m0.6875   \u001b[0m | \u001b[0m0.9855   \u001b[0m | \u001b[0m0.8209   \u001b[0m | \u001b[0m0.01391  \u001b[0m | \u001b[0m12.89    \u001b[0m | \u001b[0m4.586e+03\u001b[0m | \u001b[0m71.72    \u001b[0m | \u001b[0m0.07793  \u001b[0m | \u001b[0m48.94    \u001b[0m | \u001b[0m1.151    \u001b[0m |\n",
      "| \u001b[95m12       \u001b[0m | \u001b[95m0.6986   \u001b[0m | \u001b[95m0.9763   \u001b[0m | \u001b[95m0.942    \u001b[0m | \u001b[95m0.06442  \u001b[0m | \u001b[95m44.44    \u001b[0m | \u001b[95m1.464e+03\u001b[0m | \u001b[95m28.66    \u001b[0m | \u001b[95m0.02424  \u001b[0m | \u001b[95m26.38    \u001b[0m | \u001b[95m29.6     \u001b[0m |\n",
      "| \u001b[0m13       \u001b[0m | \u001b[0m0.6894   \u001b[0m | \u001b[0m0.9632   \u001b[0m | \u001b[0m0.9561   \u001b[0m | \u001b[0m0.113    \u001b[0m | \u001b[0m40.64    \u001b[0m | \u001b[0m1.477e+03\u001b[0m | \u001b[0m31.92    \u001b[0m | \u001b[0m0.08733  \u001b[0m | \u001b[0m35.3     \u001b[0m | \u001b[0m29.72    \u001b[0m |\n",
      "| \u001b[0m14       \u001b[0m | \u001b[0m0.6898   \u001b[0m | \u001b[0m0.9778   \u001b[0m | \u001b[0m0.7227   \u001b[0m | \u001b[0m0.1831   \u001b[0m | \u001b[0m42.32    \u001b[0m | \u001b[0m1.454e+03\u001b[0m | \u001b[0m21.53    \u001b[0m | \u001b[0m0.09296  \u001b[0m | \u001b[0m16.34    \u001b[0m | \u001b[0m16.54    \u001b[0m |\n",
      "| \u001b[0m15       \u001b[0m | \u001b[0m0.694    \u001b[0m | \u001b[0m0.9584   \u001b[0m | \u001b[0m0.9287   \u001b[0m | \u001b[0m0.1922   \u001b[0m | \u001b[0m37.7     \u001b[0m | \u001b[0m4.407e+03\u001b[0m | \u001b[0m80.68    \u001b[0m | \u001b[0m0.03824  \u001b[0m | \u001b[0m37.84    \u001b[0m | \u001b[0m29.68    \u001b[0m |\n",
      "=====================================================================================================================================\n"
     ]
    }
   ],
   "source": [
    "best_score_lgbm, best_parameters_lgbm = 0.0, dict()\n",
    "for boosting_type in ('gbdt', 'goss'):\n",
    "\n",
    "    print(f'boosting_type = {boosting_type}')\n",
    "    optimizer_lgbm = BayesianOptimization(\n",
    "        partial(optimization_lgbm, boosting_type=boosting_type), \n",
    "        optimizing_parameters_lgbm, random_state=42)\n",
    "    optimizer_lgbm.maximize(init_points=5, n_iter=10)\n",
    "    \n",
    "    if best_score_lgbm < optimizer_lgbm.max['target']:\n",
    "        best_score_lgbm = optimizer_lgbm.max['target']\n",
    "        best_parameters_lgbm.update(optimizer_lgbm.max['params'])\n",
    "        best_parameters_lgbm['boosting_type'] = boosting_type"
   ]
  },
  {
   "cell_type": "code",
   "execution_count": 47,
   "id": "1c8b0f73",
   "metadata": {
    "scrolled": true
   },
   "outputs": [
    {
     "data": {
      "text/plain": [
       "{'constant_dropper_threshold': 0.9763040173185428,\n",
       " 'correlated_dropper_threshold': 0.9419706591416945,\n",
       " 'learning_rate': 0.06441747665717384,\n",
       " 'min_child_samples': 44.441219949190845,\n",
       " 'n_estimators': 1464.260147113776,\n",
       " 'num_leaves': 28.66089028191194,\n",
       " 'rare_encoder_tol': 0.024244275099912872,\n",
       " 'reg_alpha': 26.375317773499894,\n",
       " 'reg_lambda': 29.600022434984556,\n",
       " 'boosting_type': 'goss'}"
      ]
     },
     "execution_count": 47,
     "metadata": {},
     "output_type": "execute_result"
    }
   ],
   "source": [
    "best_parameters_lgbm"
   ]
  },
  {
   "cell_type": "code",
   "execution_count": 48,
   "id": "401f12b1",
   "metadata": {},
   "outputs": [],
   "source": [
    "lgbm = LGBMClassifier(n_estimators=int(best_parameters_lgbm['n_estimators']), num_leaves=int(best_parameters_lgbm['num_leaves']),\n",
    "                             learning_rate=best_parameters_lgbm['learning_rate'], reg_lambda=best_parameters_lgbm['reg_lambda'], \n",
    "                             reg_alpha=best_parameters_lgbm['reg_alpha'], min_child_samples=int(best_parameters_lgbm['min_child_samples']), \n",
    "                             boosting_type=best_parameters_lgbm['boosting_type'], random_state=42)"
   ]
  },
  {
   "cell_type": "code",
   "execution_count": 50,
   "id": "ccfb3bbc",
   "metadata": {},
   "outputs": [
    {
     "data": {
      "text/plain": [
       "LGBMClassifier(boosting_type='goss', learning_rate=0.06441747665717384,\n",
       "               min_child_samples=44, n_estimators=1464, num_leaves=28,\n",
       "               random_state=42, reg_alpha=26.375317773499894,\n",
       "               reg_lambda=29.600022434984556)"
      ]
     },
     "execution_count": 50,
     "metadata": {},
     "output_type": "execute_result"
    }
   ],
   "source": [
    "lgbm.fit(X_train_preprocessed, y_train)"
   ]
  },
  {
   "cell_type": "code",
   "execution_count": 51,
   "id": "8b91844d",
   "metadata": {},
   "outputs": [
    {
     "name": "stdout",
     "output_type": "stream",
     "text": [
      "0.6973434373950153 - roc_auc на вероятностях\n",
      "best threshold: 0.05990332137564615\n",
      "accuracy: 0.9016725224572588\n",
      "recall: 0.23741231488698364\n",
      "precision: 0.08300632221495531\n",
      "f1: 0.12300609780721236\n",
      "\n",
      "[[197624  16825]\n",
      " [  4892   1523]]\n"
     ]
    }
   ],
   "source": [
    "print_metrics(lgbm, X_valid_preprocessed, y_valid)"
   ]
  },
  {
   "cell_type": "markdown",
   "id": "1d25f632",
   "metadata": {},
   "source": [
    "# Final model"
   ]
  },
  {
   "cell_type": "code",
   "execution_count": 54,
   "id": "b85ddb22",
   "metadata": {},
   "outputs": [],
   "source": [
    "final_pipe = Pipeline(steps=[\n",
    "    ('imputer', FunctionTransformer(missings)),\n",
    "    ('engineer', FunctionTransformer(new_features)),\n",
    "    ('dropper', DropFeatures(['client_id', 'visit_date', 'visit_time', 'device_screen_resolution'])),    \n",
    "#    ('normalization', BoxCoxTransformer()),\n",
    "    ('normalization', YeoJohnsonTransformer()),\n",
    "    ('outliers', Winsorizer()),\n",
    "    ('scaler', SklearnTransformerWrapper(StandardScaler())),\n",
    "    ('rare', RareLabelEncoder(tol = best_parameters_lgbm['rare_encoder_tol'])),\n",
    "    ('oneHotEncoder', OneHotEncoder(drop_last_binary=True)),\n",
    "    ('bool_convert', FunctionTransformer(convert_float)),\n",
    "    ('constantDropper', DropConstantFeatures(tol=best_parameters_lgbm['constant_dropper_threshold'])),\n",
    "    ('duplicatedDropper', DropDuplicateFeatures()),\n",
    "    ('correlatedDropper', DropCorrelatedFeatures(threshold= best_parameters_lgbm['correlated_dropper_threshold'])),\n",
    "    ('model', LGBMClassifier(n_estimators=int(best_parameters_lgbm['n_estimators']), num_leaves=int(best_parameters_lgbm['num_leaves']),\n",
    "                             learning_rate=best_parameters_lgbm['learning_rate'], reg_lambda=best_parameters_lgbm['reg_lambda'], \n",
    "                             reg_alpha=best_parameters_lgbm['reg_alpha'], min_child_samples=int(best_parameters_lgbm['min_child_samples']), \n",
    "                             boosting_type=best_parameters_lgbm['boosting_type'], random_state=42))\n",
    "])"
   ]
  },
  {
   "cell_type": "markdown",
   "id": "7999f41d",
   "metadata": {},
   "source": [
    "# Metrics"
   ]
  },
  {
   "cell_type": "code",
   "execution_count": 55,
   "id": "698a6fbd",
   "metadata": {},
   "outputs": [
    {
     "data": {
      "text/plain": [
       "Pipeline(steps=[('imputer',\n",
       "                 FunctionTransformer(func=<function missings at 0x7f9dc7ec9280>)),\n",
       "                ('engineer',\n",
       "                 FunctionTransformer(func=<function new_features at 0x7f9dc7ec9940>)),\n",
       "                ('dropper',\n",
       "                 DropFeatures(features_to_drop=['client_id', 'visit_date',\n",
       "                                                'visit_time',\n",
       "                                                'device_screen_resolution'])),\n",
       "                ('normalization', YeoJohnsonTransformer()),\n",
       "                ('outliers', Winsorizer()),\n",
       "                ('sca...\n",
       "                 DropConstantFeatures(tol=0.9763040173185428)),\n",
       "                ('duplicatedDropper', DropDuplicateFeatures()),\n",
       "                ('correlatedDropper',\n",
       "                 DropCorrelatedFeatures(threshold=0.9419706591416945)),\n",
       "                ('model',\n",
       "                 LGBMClassifier(boosting_type='goss',\n",
       "                                learning_rate=0.06441747665717384,\n",
       "                                min_child_samples=44, n_estimators=1464,\n",
       "                                num_leaves=28, random_state=42,\n",
       "                                reg_alpha=26.375317773499894,\n",
       "                                reg_lambda=29.600022434984556))])"
      ]
     },
     "execution_count": 55,
     "metadata": {},
     "output_type": "execute_result"
    }
   ],
   "source": [
    "final_pipe.fit(X_train_valid, y_train_valid)"
   ]
  },
  {
   "cell_type": "code",
   "execution_count": 56,
   "id": "0d92b1ae",
   "metadata": {},
   "outputs": [],
   "source": [
    "test_proba = final_pipe.predict_proba(X_test)[:, 1]\n",
    "final_threshold = find_threshold(y_test, test_proba)\n",
    "test_prediction = (test_proba > final_threshold).astype(int)"
   ]
  },
  {
   "cell_type": "code",
   "execution_count": 57,
   "id": "dd21ad7f",
   "metadata": {},
   "outputs": [
    {
     "name": "stdout",
     "output_type": "stream",
     "text": [
      "0.7040793594168728 - roc_auc на вероятностях\n",
      "best threshold: 0.06392535588911787\n",
      "accuracy: 0.9143203509852217\n",
      "recall: 0.21915993109844972\n",
      "precision: 0.0917665335108744\n",
      "f1: 0.12936529662508311\n",
      "\n",
      "[[235923  16370]\n",
      " [  5893   1654]]\n"
     ]
    }
   ],
   "source": [
    "print_metrics(final_pipe, X_test, y_test)"
   ]
  },
  {
   "cell_type": "markdown",
   "id": "e116a85a",
   "metadata": {},
   "source": [
    "# Обучение на всех данных"
   ]
  },
  {
   "cell_type": "code",
   "execution_count": 58,
   "id": "61dbde3d",
   "metadata": {},
   "outputs": [],
   "source": [
    "final_model = final_pipe.named_steps['model']\n",
    "final_preprocessor = final_pipe.set_params(model=None)"
   ]
  },
  {
   "cell_type": "code",
   "execution_count": 59,
   "id": "3f6d9751",
   "metadata": {},
   "outputs": [],
   "source": [
    "session_prepared = final_preprocessor.fit_transform(df_full.drop(columns=['event_value']))"
   ]
  },
  {
   "cell_type": "code",
   "execution_count": 60,
   "id": "a40661fa",
   "metadata": {},
   "outputs": [],
   "source": [
    "final_model.fit(session_prepared, df_full.event_value);"
   ]
  },
  {
   "cell_type": "code",
   "execution_count": 61,
   "id": "3ad2b8c1",
   "metadata": {},
   "outputs": [
    {
     "data": {
      "text/plain": [
       "260360"
      ]
     },
     "execution_count": 61,
     "metadata": {},
     "output_type": "execute_result"
    }
   ],
   "source": [
    "session_prepared.duplicated().sum()"
   ]
  },
  {
   "cell_type": "code",
   "execution_count": 62,
   "id": "6b18b7f3",
   "metadata": {},
   "outputs": [
    {
     "name": "stdout",
     "output_type": "stream",
     "text": [
      "constantDropper:\n",
      "\tis_ussr\n",
      "\tdevice_category_tablet\n",
      "\tdevice_os_Rare\n",
      "\tdevice_model_(not set)\n",
      "duplicatedDropper:\n",
      "\tutm_medium_(none)\n",
      "correlatedDropper:\n",
      "\tutm_medium_banner\n",
      "\tdevice_category_desktop\n",
      "\tutm_campaign_FTjNLDyTrXaWYgZymFkV\n",
      "\tdevice_brand_\n",
      "\tdevice_brand_Apple\n"
     ]
    }
   ],
   "source": [
    "columns_from_droppers = []\n",
    "for step in ('constantDropper', 'duplicatedDropper', 'correlatedDropper'):\n",
    "    print(step + ':')\n",
    "    for column in final_preprocessor.named_steps[step].features_to_drop_:\n",
    "        print(f'\\t{column}')\n",
    "        columns_from_droppers.append(column)"
   ]
  },
  {
   "cell_type": "code",
   "execution_count": 63,
   "id": "6b04fe1c",
   "metadata": {},
   "outputs": [],
   "source": [
    "feature_importance = pd.Series(\n",
    "    data=final_model.feature_importances_, \n",
    "    index=session_prepared.columns).sort_values(ascending=False)"
   ]
  },
  {
   "cell_type": "code",
   "execution_count": 64,
   "id": "50eef61c",
   "metadata": {},
   "outputs": [
    {
     "data": {
      "text/plain": [
       "distance_from_moscow     5831\n",
       "screen_ratio             4114\n",
       "visit_number             3700\n",
       "screen_height            3396\n",
       "screen_area              2682\n",
       "screen_width             1857\n",
       "utm_campaign_Rare         320\n",
       "hour_Rare                 281\n",
       "utm_keyword_(not set)     278\n",
       "weekday_1                 256\n",
       "dtype: int32"
      ]
     },
     "execution_count": 64,
     "metadata": {},
     "output_type": "execute_result"
    }
   ],
   "source": [
    "feature_importance.head(10)"
   ]
  },
  {
   "cell_type": "code",
   "execution_count": 65,
   "id": "044c660d",
   "metadata": {},
   "outputs": [],
   "source": [
    "final_pipe = final_pipe.set_params(model=final_model)"
   ]
  },
  {
   "cell_type": "code",
   "execution_count": 66,
   "id": "72c1660d",
   "metadata": {},
   "outputs": [],
   "source": [
    "final_pipe.metadata = {\n",
    "    'name': 'СберАвтоподписка',\n",
    "    'description': 'Модель для определения совершения целевого действия',\n",
    "    'model': final_model.__class__.__name__,\n",
    "    'version': 1.0,\n",
    "    'model_date': datetime.now().strftime('%Y-%m-%d %H:%M:%S'),\n",
    "    'author': 'Sergey Tuktarov',\n",
    "    'metrics': {\n",
    "        'threshold': final_threshold,\n",
    "        'roc_auc': roc_auc_score(y_test, test_prediction),\n",
    "        'accuracy': accuracy_score(y_test, test_prediction),\n",
    "        'precision': precision_score(y_test, test_prediction), \n",
    "        'recall': recall_score(y_test, test_prediction), \n",
    "        'f1': f1_score(y_test, test_prediction),\n",
    "               }\n",
    "}"
   ]
  },
  {
   "cell_type": "code",
   "execution_count": null,
   "id": "e88e2ed6",
   "metadata": {},
   "outputs": [],
   "source": [
    "filename = f'model_{datetime.now():%Y%m%d%H%M%S}.pkl'\n",
    "with open(f'models/{filename}', 'wb') as file:\n",
    "    dill.dump(final_pipe, file)"
   ]
  },
  {
   "cell_type": "code",
   "execution_count": null,
   "id": "5fee5e7f",
   "metadata": {},
   "outputs": [],
   "source": []
  }
 ],
 "metadata": {
  "kernelspec": {
   "display_name": "Python 3 (ipykernel)",
   "language": "python",
   "name": "python3"
  },
  "language_info": {
   "codemirror_mode": {
    "name": "ipython",
    "version": 3
   },
   "file_extension": ".py",
   "mimetype": "text/x-python",
   "name": "python",
   "nbconvert_exporter": "python",
   "pygments_lexer": "ipython3",
   "version": "3.11.7"
  }
 },
 "nbformat": 4,
 "nbformat_minor": 5
}
