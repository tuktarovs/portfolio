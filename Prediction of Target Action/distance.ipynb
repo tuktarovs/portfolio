{
 "cells": [
  {
   "cell_type": "code",
   "execution_count": 3,
   "id": "fa98f2a3",
   "metadata": {},
   "outputs": [],
   "source": [
    "from geopy.geocoders import Nominatim\n",
    "from geopy.distance import distance\n",
    "import dill"
   ]
  },
  {
   "cell_type": "code",
   "execution_count": 4,
   "id": "ab49b577",
   "metadata": {},
   "outputs": [],
   "source": [
    "geolocator = Nominatim(user_agent='google')"
   ]
  },
  {
   "cell_type": "code",
   "execution_count": 5,
   "id": "320b0614",
   "metadata": {},
   "outputs": [],
   "source": [
    "location = geolocator.geocode('moscow')[1]"
   ]
  },
  {
   "cell_type": "code",
   "execution_count": 6,
   "id": "db5c625f",
   "metadata": {},
   "outputs": [
    {
     "data": {
      "text/plain": [
       "(55.7504461, 37.6174943)"
      ]
     },
     "execution_count": 6,
     "metadata": {},
     "output_type": "execute_result"
    }
   ],
   "source": [
    "location"
   ]
  },
  {
   "cell_type": "code",
   "execution_count": 7,
   "id": "e352218a",
   "metadata": {},
   "outputs": [],
   "source": [
    "with open(f'data/ga_sessions.pkl', 'rb') as file:\n",
    "    ga_sessions = dill.load(file)"
   ]
  },
  {
   "cell_type": "code",
   "execution_count": 8,
   "id": "147078fc",
   "metadata": {},
   "outputs": [],
   "source": [
    "ga_sessions['city_country'] = ga_sessions['geo_city'] + ' ' + ga_sessions['geo_country']"
   ]
  },
  {
   "cell_type": "code",
   "execution_count": 9,
   "id": "6f8f0071",
   "metadata": {},
   "outputs": [],
   "source": [
    "cities = ga_sessions[ga_sessions.geo_country == 'Russia'][['geo_city', 'city_country']].drop_duplicates()"
   ]
  },
  {
   "cell_type": "code",
   "execution_count": 10,
   "id": "1fa7195a",
   "metadata": {},
   "outputs": [],
   "source": [
    "cities['location'] = cities.city_country.apply(lambda x: geolocator.geocode(x))"
   ]
  },
  {
   "cell_type": "code",
   "execution_count": 11,
   "id": "dac04d42",
   "metadata": {},
   "outputs": [],
   "source": [
    "cities = cities.dropna()"
   ]
  },
  {
   "cell_type": "code",
   "execution_count": 12,
   "id": "2715b4f6",
   "metadata": {},
   "outputs": [],
   "source": [
    "cities['distance_from_moscow'] = cities['location'].apply(lambda x: distance(x[1], location).kilometers)"
   ]
  },
  {
   "cell_type": "code",
   "execution_count": 13,
   "id": "37c464c5",
   "metadata": {},
   "outputs": [],
   "source": [
    "cities = cities[['geo_city','distance_from_moscow']]"
   ]
  },
  {
   "cell_type": "code",
   "execution_count": 14,
   "id": "32b005b3",
   "metadata": {},
   "outputs": [],
   "source": [
    "cities['geo_city'] = cities['geo_city'].apply(lambda x: x.lower())"
   ]
  },
  {
   "cell_type": "code",
   "execution_count": 18,
   "id": "5aee10b7",
   "metadata": {},
   "outputs": [],
   "source": [
    "cities.to_csv('data/distance_from_moscow.csv', index=False)"
   ]
  },
  {
   "cell_type": "code",
   "execution_count": 20,
   "id": "732b5d12",
   "metadata": {},
   "outputs": [
    {
     "data": {
      "text/plain": [
       "count     473.000000\n",
       "mean     1397.719137\n",
       "std      1536.586514\n",
       "min         0.000000\n",
       "25%       368.597944\n",
       "50%      1018.818437\n",
       "75%      1505.882634\n",
       "max      6798.018682\n",
       "Name: distance_from_moscow, dtype: float64"
      ]
     },
     "execution_count": 20,
     "metadata": {},
     "output_type": "execute_result"
    }
   ],
   "source": [
    "cities.distance_from_moscow.describe()"
   ]
  },
  {
   "cell_type": "code",
   "execution_count": null,
   "id": "cae6e0b3",
   "metadata": {},
   "outputs": [],
   "source": []
  }
 ],
 "metadata": {
  "kernelspec": {
   "display_name": "Python 3 (ipykernel)",
   "language": "python",
   "name": "python3"
  },
  "language_info": {
   "codemirror_mode": {
    "name": "ipython",
    "version": 3
   },
   "file_extension": ".py",
   "mimetype": "text/x-python",
   "name": "python",
   "nbconvert_exporter": "python",
   "pygments_lexer": "ipython3",
   "version": "3.9.13"
  }
 },
 "nbformat": 4,
 "nbformat_minor": 5
}
